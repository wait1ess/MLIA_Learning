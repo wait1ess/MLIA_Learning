{
 "cells": [
  {
   "cell_type": "markdown",
   "metadata": {},
   "source": [
    "# 支持向量机（SVM）和SMO算法\n",
    "找到具有最小间隔的数据点，再对该间隔最大化：\n",
    "$$\n",
    "\\mathop{\\arg\\max}_{(w,b)}\\{\\min_n \\ label·\\frac{(w^Tx+b)}{||w||}\\}\n",
    "$$\n",
    "转化后的优化目标函数：\n",
    "$$\n",
    "\\begin{align}\n",
    "\\max_\\alpha[\\sum_{i=1}^m\\alpha-\\frac{1}{2}\\sum_{i,j=1}^{m}&label^{(i)}·label^{(j)}·\\alpha_i·\\alpha_j·<x^{(i)},x^{(j)}>] \\\\\\\\\n",
    "st. \\ &\\alpha\\geq0\\\\\n",
    "&\\sum_{i-1}^m\\alpha_i·label^{(i)}=0\n",
    "\\end{align}\n",
    "$$\n",
    "引入松弛变量后约束条件变为：\n",
    "$$\n",
    "\\begin{align}\n",
    "st. \\ &C\\geq\\alpha\\geq0\\\\&\\sum_{i-1}^m\\alpha_i·label^{(i)}=0\n",
    "\\end{align}\n",
    "$$"
   ]
  },
  {
   "cell_type": "markdown",
   "metadata": {},
   "source": [
    "## SMO：序列最小优化（Sequential Minimal Optimization）\n",
    "将大优化问题分解为多个小优化问题  \n",
    "SMO目标：求出一系列$\\alpha$和$b$，然后可以容易计算出$w$  \n",
    "工作原理：  \n",
    "1.每次循环选择两个$\\alpha$进行优化处理  \n",
    "2.一旦找到一对“合适”的$\\alpha$，就一个增大一个减小 "
   ]
  },
  {
   "cell_type": "code",
   "execution_count": 2,
   "metadata": {},
   "outputs": [],
   "source": [
    "import numpy as np\n",
    "from numpy import *\n",
    "from time import sleep\n",
    "import matplotlib.pyplot as plt\n",
    "%matplotlib inline"
   ]
  },
  {
   "cell_type": "code",
   "execution_count": 11,
   "metadata": {},
   "outputs": [],
   "source": [
    "# 读取数据，获得特征与标签\n",
    "def loadDataSet(fileName):\n",
    "    \"\"\"\n",
    "    读取数据集\n",
    "    参数：\n",
    "        fileName -- 文件名\n",
    "    返回：\n",
    "        dataMat -- 数据矩阵\n",
    "        label -- 标签矩阵\n",
    "    \"\"\"\n",
    "    dataMat = []; labelMat = []                                      #新建数据和标签矩阵列表\n",
    "    fr = open(fileName)                                              #新建数据和标签矩阵列表\n",
    "    for line in fr.readlines():                                      #一行行读取      \n",
    "        lineArr = line.strip().split('\\t')                           #以制表符分割        \n",
    "        dataMat.append([np.float(lineArr[0]), np.float(lineArr[1])]) #数据第1、2列添加到数据矩阵       \n",
    "        labelMat.append(np.float(lineArr[2]))                        #数据第3列添加到标签矩阵\n",
    "    return dataMat,labelMat"
   ]
  },
  {
   "cell_type": "code",
   "execution_count": 4,
   "metadata": {},
   "outputs": [],
   "source": [
    "def selectJrand(i,m):\n",
    "    \"\"\"\n",
    "    随机选取和i不同的j\n",
    "    参数:\n",
    "        i -- 第一个alpha的下标\n",
    "        m -- alpha的个数\n",
    "    返回：\n",
    "        j -- 随机的值\n",
    "    \"\"\"\n",
    "    j=i\n",
    "    while (j==i):\n",
    "        j = np.int(np.random.uniform(0,m))\n",
    "    return j"
   ]
  },
  {
   "cell_type": "code",
   "execution_count": 5,
   "metadata": {},
   "outputs": [],
   "source": [
    "def clipAlpha(aj,H,L):\n",
    "    \"\"\"\n",
    "    约束alpha\n",
    "    参数：\n",
    "        aj -- 迭代得到的未约束alpha的值\n",
    "        H -- 上界\n",
    "        L -- 下界\n",
    "    返回：\n",
    "        aj -- 约束后的alpha\n",
    "    \"\"\"\n",
    "    if aj > H: \n",
    "        aj = H\n",
    "    if L > aj:\n",
    "        aj = L\n",
    "    return aj"
   ]
  },
  {
   "cell_type": "markdown",
   "metadata": {},
   "source": [
    "### 简化版SMO算法\n",
    "- 伪代码:  \n",
    "创建一个alpha向量并将其初始化为0向量  \n",
    "当迭代次数小于最大迭代次数时（外循环）  \n",
    "&ensp;&ensp;&ensp;&ensp;对数据集中的每个数据向量（内循环）：  \n",
    "&ensp;&ensp;&ensp;&ensp;&ensp;&ensp;&ensp;&ensp;如果该数据向量可以被优化：  \n",
    "&ensp;&ensp;&ensp;&ensp;&ensp;&ensp;&ensp;&ensp;&ensp;&ensp;&ensp;&ensp;随机选择另外一个数据向量  \n",
    "&ensp;&ensp;&ensp;&ensp;&ensp;&ensp;&ensp;&ensp;&ensp;&ensp;&ensp;&ensp;同时优化这两个向量  \n",
    "&ensp;&ensp;&ensp;&ensp;&ensp;&ensp;&ensp;&ensp;&ensp;&ensp;&ensp;&ensp;如果两个向量都不能被优化，退出内循环  \n",
    "&ensp;&ensp;&ensp;&ensp;如果所有向量都没被优化，增加迭代数目，继续下一次循环"
   ]
  },
  {
   "cell_type": "code",
   "execution_count": 9,
   "metadata": {},
   "outputs": [],
   "source": [
    "def smoSimple(dataMatIn, classLabels, C, toler, maxIter):\n",
    "    \"\"\"\n",
    "    简化的SMO算法\n",
    "    参数：\n",
    "        dataMatIn -- 输入数据矩阵\n",
    "        classLabels -- 标签类列表\n",
    "        C -- 权重超参数\n",
    "        toler -- 容错率\n",
    "        maxIter -- 最大迭代次数\n",
    "    返回：\n",
    "        b -- 更新的偏差参数\n",
    "        alphas -- 更新的alpha参数向量\n",
    "    \"\"\"\n",
    "    dataMatrix = np.array(dataMatIn); labelMat = np.array(classLabels).reshape(-1, 1)   #数据和标签转化为矩阵形式    \n",
    "    b = 0; m,n = np.shape(dataMatrix)                                       #偏差参数初始化； #记录数据矩阵的维度                 \n",
    "    alphas = np.zeros((m,1))                                                            #初始化alpha向量为全0\n",
    "    iter = 0                                                                            #初始化迭代次数计数器   \n",
    "    while (iter < maxIter):                                                             #当迭代次数小于最大迭代次数时\n",
    "        alphaPairsChanged = 0                                                           #用于记录alpha修改的次数\n",
    "        for i in range(m):                                                              #逐行遍历数据矩阵，寻找可优化的alpha\n",
    "            fXi = np.float(np.dot((alphas*labelMat).T, np.dot(dataMatrix, dataMatrix[i:i+1,:].T))) + b      #i的预测类别\n",
    "            Ei = fXi - np.float(labelMat[i, 0])                                                             #i的误差\n",
    "                                                                                                            #检查是否有记录i违背KKT条件\n",
    "            if ((labelMat[i, 0]*Ei < -toler) and (alphas[i, 0] < C)) or ((labelMat[i, 0]*Ei > toler) and (alphas[i, 0] > 0)):   #对于alphai<C,为落在最大分隔边界的支持向量，其yi*Fxi-1=0                                             \n",
    "                j = selectJrand(i,m)                                                                                                #利用函数selectJrand随机选择记录j\n",
    "                fXj = np.float(np.dot((alphas*labelMat).T, np.dot(dataMatrix, dataMatrix[j:j+1,:].T))) + b                          #j的预测类别\n",
    "                Ej = fXj - np.float(labelMat[j, 0])                                                                                 #j的预测误差\n",
    "                alphaIold = alphas[i, 0].copy(); alphaJold = alphas[j, 0].copy();                                                   #copy旧的alphai和alphaj\n",
    "                if (labelMat[i, 0] != labelMat[j, 0]):                                                                              #如果i和j的真实类别标签不同\n",
    "                    L = max(0, alphas[j, 0] - alphas[i, 0])                                                                         #下界L与上界H用于将alphaj调整在0到C之间\n",
    "                    H = min(C, C + alphas[j, 0] - alphas[i, 0])\n",
    "                else:                                                                                                               #如果i和j的真实类别标签相同\n",
    "                    L = max(0, alphas[j, 0] + alphas[i, 0] - C)\n",
    "                    H = min(C, alphas[j, 0] + alphas[i, 0])\n",
    "                if L==H:  continue                                                                                                  #若上界等于下界，就执行下一次循序\n",
    "                                                                                                                                    #计算最优修改量\n",
    "                eta = 2.0 * np.dot(dataMatrix[i:i+1,:], dataMatrix[j:j+1,:].T) - np.dot(dataMatrix[i:i+1,:], dataMatrix[i:i+1,:].T) - np.dot(dataMatrix[j:j+1,:], dataMatrix[j:j+1,:].T)\n",
    "                if eta >= 0:  continue\n",
    "                alphas[j, 0] -= labelMat[j, 0]*(Ei - Ej)/eta                                                                        #更新alphaj，\n",
    "                alphas[j, 0] = clipAlpha(alphas[j, 0],H,L)                                                                          #利用函数clipAlpha约束alphaj\n",
    "                if (abs(alphas[j, 0] - alphaJold) < 0.00001):  continue                                                             #判断精度是否满足要求，是，则执行下一次循环\n",
    "                alphas[i, 0] += labelMat[j, 0]*labelMat[i, 0]*(alphaJold - alphas[j, 0])                                            #修改i的大小和j相同，但是方向相反，保证约束条件成立\n",
    "                                                                                                                                    #计算新的常数项b\n",
    "                b1 = b - Ei- labelMat[i, 0]*(alphas[i, 0]-alphaIold)*np.dot(dataMatrix[i:i+1,:], dataMatrix[i:i+1,:].T) - labelMat[j, 0]*(alphas[j, 0]-alphaJold)*np.dot(dataMatrix[i:i+1,:], dataMatrix[j:j+1,:].T)\n",
    "                b2 = b - Ej- labelMat[i, 0]*(alphas[i, 0]-alphaIold)*np.dot(dataMatrix[i:i+1,:], dataMatrix[j:j+1,:].T) - labelMat[j, 0]*(alphas[j, 0]-alphaJold)*np.dot(dataMatrix[j:j+1,:], dataMatrix[j:j+1,:].T)\n",
    "                if (0 < alphas[i, 0]) and (C > alphas[i, 0]): b = b1\n",
    "                elif (0 < alphas[j, 0]) and (C > alphas[j, 0]): b = b2\n",
    "                else: b = (b1 + b2)/2.0\n",
    "                alphaPairsChanged += 1                                                                                             #更新alpha并增加更新次数记录\n",
    "                #print(\"循环次数: {} alpha:{}, alpha对修改了 {} 次\".format(iter,i,alphaPairsChanged))                                #打印更新次数\n",
    "        if (alphaPairsChanged == 0): iter += 1                                                                                     #更新时增加迭代次数记录\n",
    "        else: iter = 0\n",
    "        #print(\"迭代次数: {}\".format(iter))\n",
    "    return b,alphas"
   ]
  },
  {
   "cell_type": "code",
   "execution_count": 12,
   "metadata": {},
   "outputs": [
    {
     "ename": "FileNotFoundError",
     "evalue": "[Errno 2] No such file or directory: 'testSet.txt'",
     "output_type": "error",
     "traceback": [
      "\u001b[1;31m---------------------------------------------------------------------------\u001b[0m",
      "\u001b[1;31mFileNotFoundError\u001b[0m                         Traceback (most recent call last)",
      "\u001b[1;32m<ipython-input-12-858f5e1ce34b>\u001b[0m in \u001b[0;36m<module>\u001b[1;34m\u001b[0m\n\u001b[0;32m      1\u001b[0m \u001b[1;31m#测试函数\u001b[0m\u001b[1;33m\u001b[0m\u001b[1;33m\u001b[0m\u001b[1;33m\u001b[0m\u001b[0m\n\u001b[1;32m----> 2\u001b[1;33m \u001b[0mdataArr\u001b[0m\u001b[1;33m,\u001b[0m \u001b[0mlabelArr\u001b[0m \u001b[1;33m=\u001b[0m \u001b[0mloadDataSet\u001b[0m\u001b[1;33m(\u001b[0m\u001b[1;34m\"testSet.txt\"\u001b[0m\u001b[1;33m)\u001b[0m\u001b[1;33m\u001b[0m\u001b[1;33m\u001b[0m\u001b[0m\n\u001b[0m\u001b[0;32m      3\u001b[0m \u001b[0mb\u001b[0m\u001b[1;33m,\u001b[0m \u001b[0malphas\u001b[0m \u001b[1;33m=\u001b[0m \u001b[0msmoSimple\u001b[0m\u001b[1;33m(\u001b[0m\u001b[0mdataArr\u001b[0m\u001b[1;33m,\u001b[0m \u001b[0mlabelArr\u001b[0m\u001b[1;33m,\u001b[0m \u001b[1;36m0.6\u001b[0m\u001b[1;33m,\u001b[0m \u001b[1;36m0.001\u001b[0m\u001b[1;33m,\u001b[0m \u001b[1;36m40\u001b[0m\u001b[1;33m)\u001b[0m\u001b[1;33m\u001b[0m\u001b[1;33m\u001b[0m\u001b[0m\n\u001b[0;32m      4\u001b[0m \u001b[0mprint\u001b[0m\u001b[1;33m(\u001b[0m\u001b[1;34m\"b = {}\"\u001b[0m\u001b[1;33m.\u001b[0m\u001b[0mformat\u001b[0m\u001b[1;33m(\u001b[0m\u001b[0mb\u001b[0m\u001b[1;33m)\u001b[0m\u001b[1;33m)\u001b[0m\u001b[1;33m\u001b[0m\u001b[1;33m\u001b[0m\u001b[0m\n\u001b[0;32m      5\u001b[0m \u001b[0mprint\u001b[0m\u001b[1;33m(\u001b[0m\u001b[1;34m\"大于0的alpha\\n{}\"\u001b[0m\u001b[1;33m.\u001b[0m\u001b[0mformat\u001b[0m\u001b[1;33m(\u001b[0m\u001b[0malphas\u001b[0m\u001b[1;33m[\u001b[0m\u001b[0malphas\u001b[0m \u001b[1;33m>\u001b[0m \u001b[1;36m0\u001b[0m\u001b[1;33m]\u001b[0m\u001b[1;33m)\u001b[0m\u001b[1;33m)\u001b[0m\u001b[1;33m\u001b[0m\u001b[1;33m\u001b[0m\u001b[0m\n",
      "\u001b[1;32m<ipython-input-11-f15a41a6e9e0>\u001b[0m in \u001b[0;36mloadDataSet\u001b[1;34m(fileName)\u001b[0m\n\u001b[0;32m     10\u001b[0m     \"\"\"\n\u001b[0;32m     11\u001b[0m     \u001b[0mdataMat\u001b[0m \u001b[1;33m=\u001b[0m \u001b[1;33m[\u001b[0m\u001b[1;33m]\u001b[0m\u001b[1;33m;\u001b[0m \u001b[0mlabelMat\u001b[0m \u001b[1;33m=\u001b[0m \u001b[1;33m[\u001b[0m\u001b[1;33m]\u001b[0m                                      \u001b[1;31m#新建数据和标签矩阵列表\u001b[0m\u001b[1;33m\u001b[0m\u001b[1;33m\u001b[0m\u001b[0m\n\u001b[1;32m---> 12\u001b[1;33m     \u001b[0mfr\u001b[0m \u001b[1;33m=\u001b[0m \u001b[0mopen\u001b[0m\u001b[1;33m(\u001b[0m\u001b[0mfileName\u001b[0m\u001b[1;33m)\u001b[0m                                              \u001b[1;31m#新建数据和标签矩阵列表\u001b[0m\u001b[1;33m\u001b[0m\u001b[1;33m\u001b[0m\u001b[0m\n\u001b[0m\u001b[0;32m     13\u001b[0m     \u001b[1;32mfor\u001b[0m \u001b[0mline\u001b[0m \u001b[1;32min\u001b[0m \u001b[0mfr\u001b[0m\u001b[1;33m.\u001b[0m\u001b[0mreadlines\u001b[0m\u001b[1;33m(\u001b[0m\u001b[1;33m)\u001b[0m\u001b[1;33m:\u001b[0m                                      \u001b[1;31m#一行行读取\u001b[0m\u001b[1;33m\u001b[0m\u001b[1;33m\u001b[0m\u001b[0m\n\u001b[0;32m     14\u001b[0m         \u001b[0mlineArr\u001b[0m \u001b[1;33m=\u001b[0m \u001b[0mline\u001b[0m\u001b[1;33m.\u001b[0m\u001b[0mstrip\u001b[0m\u001b[1;33m(\u001b[0m\u001b[1;33m)\u001b[0m\u001b[1;33m.\u001b[0m\u001b[0msplit\u001b[0m\u001b[1;33m(\u001b[0m\u001b[1;34m'\\t'\u001b[0m\u001b[1;33m)\u001b[0m                           \u001b[1;31m#以制表符分割\u001b[0m\u001b[1;33m\u001b[0m\u001b[1;33m\u001b[0m\u001b[0m\n",
      "\u001b[1;31mFileNotFoundError\u001b[0m: [Errno 2] No such file or directory: 'testSet.txt'"
     ]
    }
   ],
   "source": [
    "#测试函数\n",
    "dataArr, labelArr = loadDataSet(\"testSet.txt\")\n",
    "b, alphas = smoSimple(dataArr, labelArr, 0.6, 0.001, 40)\n",
    "print(\"b = {}\".format(b))\n",
    "print(\"大于0的alpha\\n{}\".format(alphas[alphas > 0]))"
   ]
  },
  {
   "cell_type": "code",
   "execution_count": null,
   "metadata": {},
   "outputs": [],
   "source": []
  }
 ],
 "metadata": {
  "kernelspec": {
   "display_name": "Python 3",
   "language": "python",
   "name": "python3"
  },
  "language_info": {
   "codemirror_mode": {
    "name": "ipython",
    "version": 3
   },
   "file_extension": ".py",
   "mimetype": "text/x-python",
   "name": "python",
   "nbconvert_exporter": "python",
   "pygments_lexer": "ipython3",
   "version": "3.6.7"
  }
 },
 "nbformat": 4,
 "nbformat_minor": 2
}
