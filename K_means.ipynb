{
 "cells": [
  {
   "cell_type": "markdown",
   "metadata": {},
   "source": [
    "## K-均值聚类算法"
   ]
  },
  {
   "cell_type": "markdown",
   "metadata": {},
   "source": [
    "K-均值聚类支持函数"
   ]
  },
  {
   "cell_type": "code",
   "execution_count": 6,
   "metadata": {},
   "outputs": [],
   "source": [
    "from numpy import *\n",
    "def loadDataSet(fileName):                                                            # 将文本文件导入一个列表中\n",
    "    dataMat = []                #assume last column is target value\n",
    "    fr = open(fileName)\n",
    "    for line in fr.readlines():\n",
    "        curLine = line.strip().split('\\t')\n",
    "        fltLine = list(map(float,curLine)) #map all elements to float()\n",
    "        dataMat.append(fltLine)\n",
    "    return dataMat\n",
    "\n",
    "def distEclud(vecA, vecB):                                                            # 计算两个向量之间的欧氏距离\n",
    "    return sqrt(sum(power(vecA - vecB, 2))) #la.norm(vecA-vecB)\n",
    "\n",
    "def randCent(dataSet, k):                                                             # 为给定的数据集构建一个包含k个随机质心的集合\n",
    "    n = shape(dataSet)[1]\n",
    "    centroids = mat(zeros((k,n)))#create centroid mat\n",
    "    for j in range(n):#create random cluster centers, within bounds of each dimension\n",
    "        minJ = min(dataSet[:,j]) \n",
    "        rangeJ = float(max(dataSet[:,j]) - minJ)\n",
    "        centroids[:,j] = mat(minJ + rangeJ * random.rand(k,1))\n",
    "    return centroids"
   ]
  },
  {
   "cell_type": "code",
   "execution_count": 9,
   "metadata": {},
   "outputs": [
    {
     "data": {
      "text/plain": [
       "matrix([[-5.379713]])"
      ]
     },
     "execution_count": 9,
     "metadata": {},
     "output_type": "execute_result"
    }
   ],
   "source": [
    "#尝试\n",
    "datMat=mat(loadDataSet('testSet.txt'))\n",
    "min(datMat[:,0])"
   ]
  },
  {
   "cell_type": "code",
   "execution_count": 10,
   "metadata": {},
   "outputs": [
    {
     "data": {
      "text/plain": [
       "matrix([[3.23065753, 0.51049916],\n",
       "        [0.71028114, 4.49800762]])"
      ]
     },
     "execution_count": 10,
     "metadata": {},
     "output_type": "execute_result"
    }
   ],
   "source": [
    "randCent(datMat,2)"
   ]
  },
  {
   "cell_type": "markdown",
   "metadata": {},
   "source": [
    "K-均值聚类算法"
   ]
  },
  {
   "cell_type": "code",
   "execution_count": 12,
   "metadata": {},
   "outputs": [],
   "source": [
    "def kMeans(dataSet, k, distMeas=distEclud, createCent=randCent):\n",
    "    '''input:  dataSet                 输入数据集\n",
    "               k                       簇的个数\n",
    "               distMeas                距离计算方法（默认为欧式距离）\n",
    "               createCent              生成随机质心的方法\n",
    "       output：centroids               质心\n",
    "               clusterAssment          簇分配结果矩阵，每个数据点到当前迭代的质心的距离\n",
    "              \n",
    "    '''\n",
    "    m = shape(dataSet)[0]\n",
    "    clusterAssment = mat(zeros((m,2)))                                             # 簇分配结果矩阵，第一列为簇的索引值，第二列为存储误差（当前点到簇心的距离）\n",
    "    centroids = createCent(dataSet, k)                                             # 随机生成k个质心\n",
    "    clusterChanged = True                                                          # 标志变量，True为继续迭代\n",
    "    while clusterChanged:\n",
    "        clusterChanged = False\n",
    "                                                                                   # 计算每个数据点到每个质心的距离，把样本点分配到距离最近的质心所在的簇\n",
    "        for i in range(m):                                                         # 遍历每个样本点\n",
    "            minDist = inf; minIndex = -1                                           # 初始化\n",
    "            for j in range(k):                                                     # 遍历k个质心\n",
    "                distJI = distMeas(centroids[j,:],dataSet[i,:])                     # 计算距离\n",
    "                if distJI < minDist:                                               # 若当前计算的距离小于当前的最小距离\n",
    "                    minDist = distJI; minIndex = j                                 # 更新最小距离及与该样本点最小距离的簇索引\n",
    "            if clusterAssment[i,0] != minIndex: clusterChanged = True              # 否则继续迭代\n",
    "            clusterAssment[i,:] = minIndex,minDist**2                              # 迭代结束后更新簇分配结果矩阵\n",
    "        print(centroids)                                                           # 打印质心\n",
    "                                                                                   #  recalculate centroids 样本点重新分配后更新质心的位置 \n",
    "        for cent in range(k):                                                      #  遍历每个簇\n",
    "            ptsInClust = dataSet[nonzero(clusterAssment[:,0].A==cent)[0]]          #  得到当前每个簇下的样本 \n",
    "            centroids[cent,:] = mean(ptsInClust, axis=0) #assign centroid to mean  #  重新计算质心\n",
    "    return centroids, clusterAssment                                               #  返回最终的质心和样本，簇分配结果矩阵"
   ]
  },
  {
   "cell_type": "code",
   "execution_count": 13,
   "metadata": {},
   "outputs": [
    {
     "name": "stdout",
     "output_type": "stream",
     "text": [
      "[[ 0.0560684   3.12513293]\n",
      " [-2.76827301  0.16100137]\n",
      " [-4.11719377 -2.65675131]\n",
      " [ 2.49910479 -0.04968725]]\n",
      "[[ 0.55536091  3.3760927 ]\n",
      " [-3.2308203   2.5758848 ]\n",
      " [-3.38237045 -2.9473363 ]\n",
      " [ 2.92197237 -1.4858577 ]]\n",
      "[[ 2.225975    3.17026943]\n",
      " [-2.64677572  2.78993217]\n",
      " [-3.38237045 -2.9473363 ]\n",
      " [ 2.8692781  -2.54779119]]\n",
      "[[ 2.6265299   3.10868015]\n",
      " [-2.46154315  2.78737555]\n",
      " [-3.38237045 -2.9473363 ]\n",
      " [ 2.80293085 -2.7315146 ]]\n"
     ]
    }
   ],
   "source": [
    "myCentroids, clustAssing = kMeans(datMat, 4)"
   ]
  },
  {
   "cell_type": "code",
   "execution_count": null,
   "metadata": {},
   "outputs": [],
   "source": [
    "# 质心\n",
    "myCentroids"
   ]
  },
  {
   "cell_type": "code",
   "execution_count": 17,
   "metadata": {},
   "outputs": [
    {
     "data": {
      "text/plain": [
       "matrix([[0.00000000e+00, 2.32019150e+00],\n",
       "        [1.00000000e+00, 1.39004893e+00],\n",
       "        [3.00000000e+00, 6.63839104e+00],\n",
       "        [2.00000000e+00, 4.16140951e+00],\n",
       "        [0.00000000e+00, 2.76967820e+00],\n",
       "        [1.00000000e+00, 2.80101213e+00],\n",
       "        [3.00000000e+00, 5.85909807e+00],\n",
       "        [2.00000000e+00, 1.50646425e+00],\n",
       "        [0.00000000e+00, 2.29348924e+00],\n",
       "        [1.00000000e+00, 6.45967483e-01],\n",
       "        [3.00000000e+00, 1.74010499e+00],\n",
       "        [2.00000000e+00, 3.77769471e-01],\n",
       "        [0.00000000e+00, 2.51695402e+00],\n",
       "        [1.00000000e+00, 1.38716420e-01],\n",
       "        [3.00000000e+00, 9.47633071e+00],\n",
       "        [2.00000000e+00, 9.97310599e+00],\n",
       "        [0.00000000e+00, 2.39726914e+00],\n",
       "        [1.00000000e+00, 3.10242360e+00],\n",
       "        [3.00000000e+00, 4.11084375e-01],\n",
       "        [2.00000000e+00, 4.74890795e-01],\n",
       "        [0.00000000e+00, 1.38706133e-01],\n",
       "        [1.00000000e+00, 5.10240996e-01],\n",
       "        [3.00000000e+00, 1.05700176e+00],\n",
       "        [2.00000000e+00, 2.90181828e-02],\n",
       "        [0.00000000e+00, 1.31601105e+00],\n",
       "        [1.00000000e+00, 9.08203769e-01],\n",
       "        [3.00000000e+00, 5.02608557e-01],\n",
       "        [2.00000000e+00, 4.57942717e-01],\n",
       "        [0.00000000e+00, 2.13786618e-01],\n",
       "        [1.00000000e+00, 4.05632356e+00],\n",
       "        [3.00000000e+00, 5.14171888e+00],\n",
       "        [2.00000000e+00, 5.56237495e-01],\n",
       "        [0.00000000e+00, 4.76142736e-01],\n",
       "        [1.00000000e+00, 1.54414110e+00],\n",
       "        [3.00000000e+00, 6.10930460e+00],\n",
       "        [2.00000000e+00, 9.47660177e-01],\n",
       "        [0.00000000e+00, 4.87745774e+00],\n",
       "        [1.00000000e+00, 3.12703929e+00],\n",
       "        [3.00000000e+00, 6.45118831e-03],\n",
       "        [2.00000000e+00, 3.01415411e-01],\n",
       "        [0.00000000e+00, 8.84955695e-01],\n",
       "        [1.00000000e+00, 7.98870968e-02],\n",
       "        [3.00000000e+00, 5.23673430e-01],\n",
       "        [2.00000000e+00, 3.24171404e+00],\n",
       "        [0.00000000e+00, 9.32523506e-02],\n",
       "        [1.00000000e+00, 9.13705455e-01],\n",
       "        [3.00000000e+00, 1.25766593e+00],\n",
       "        [2.00000000e+00, 4.09563895e-01],\n",
       "        [0.00000000e+00, 9.46987842e-01],\n",
       "        [1.00000000e+00, 2.63836399e+00],\n",
       "        [3.00000000e+00, 5.20371222e-01],\n",
       "        [2.00000000e+00, 1.86796790e+00],\n",
       "        [0.00000000e+00, 5.46768776e+00],\n",
       "        [1.00000000e+00, 5.73153563e+00],\n",
       "        [3.00000000e+00, 3.12040332e-01],\n",
       "        [2.00000000e+00, 3.93986735e-01],\n",
       "        [0.00000000e+00, 1.32864695e+00],\n",
       "        [1.00000000e+00, 2.38032454e-02],\n",
       "        [3.00000000e+00, 1.07872914e+00],\n",
       "        [2.00000000e+00, 4.35369355e-01],\n",
       "        [0.00000000e+00, 4.55502856e-01],\n",
       "        [1.00000000e+00, 1.96212809e-02],\n",
       "        [3.00000000e+00, 1.95213538e+00],\n",
       "        [2.00000000e+00, 1.54154401e+00],\n",
       "        [0.00000000e+00, 1.26364010e+00],\n",
       "        [1.00000000e+00, 1.33108375e+00],\n",
       "        [3.00000000e+00, 3.02422139e-01],\n",
       "        [2.00000000e+00, 5.58860689e-01],\n",
       "        [0.00000000e+00, 9.52516316e-02],\n",
       "        [1.00000000e+00, 6.25129762e-01],\n",
       "        [3.00000000e+00, 8.41875177e-01],\n",
       "        [2.00000000e+00, 2.06159470e+00],\n",
       "        [0.00000000e+00, 6.39227291e+00],\n",
       "        [1.00000000e+00, 2.01200372e-01],\n",
       "        [3.00000000e+00, 3.51030769e+00],\n",
       "        [2.00000000e+00, 9.83287604e-01],\n",
       "        [0.00000000e+00, 7.06014703e-02],\n",
       "        [1.00000000e+00, 2.59901305e-01],\n",
       "        [3.00000000e+00, 3.74491207e+00],\n",
       "        [2.00000000e+00, 2.32143993e+00]])"
      ]
     },
     "execution_count": 17,
     "metadata": {},
     "output_type": "execute_result"
    }
   ],
   "source": [
    "# 簇分配结果\n",
    "clustAssing #第一列为簇索引，第二列为点到簇质心的距离平方值，其和为SSE（误差平方和）"
   ]
  },
  {
   "cell_type": "markdown",
   "metadata": {},
   "source": [
    "绘制图形"
   ]
  },
  {
   "cell_type": "code",
   "execution_count": 15,
   "metadata": {},
   "outputs": [],
   "source": [
    "import matplotlib\n",
    "import matplotlib.pyplot as plt\n",
    "%matplotlib inline\n",
    "def showPlt(datMat, alg=kMeans, numClust=4):\n",
    "    myCentroids, clustAssing = alg(datMat, numClust)\n",
    "    fig = plt.figure()\n",
    "    rect=[0.1,0.1,0.8,0.8]\n",
    "    scatterMarkers=['s', 'o', '^', '8', 'p', \\\n",
    "                    'd', 'v', 'h', '>', '<']\n",
    "    axprops = dict(xticks=[], yticks=[])\n",
    "    ax0=fig.add_axes(rect, label='ax0', **axprops)\n",
    "    ax1=fig.add_axes(rect, label='ax1', frameon=False)\n",
    "    for i in range(numClust):\n",
    "        ptsInCurrCluster = datMat[nonzero(clustAssing[:,0].A==i)[0],:]\n",
    "        markerStyle = scatterMarkers[i % len(scatterMarkers)]\n",
    "        ax1.scatter(ptsInCurrCluster[:,0].flatten().A[0], ptsInCurrCluster[:,1].flatten().A[0], marker=markerStyle, s=90)\n",
    "    ax1.scatter(myCentroids[:,0].flatten().A[0], myCentroids[:,1].flatten().A[0], marker='+', s=300)\n",
    "    plt.show()"
   ]
  },
  {
   "cell_type": "code",
   "execution_count": 16,
   "metadata": {},
   "outputs": [
    {
     "name": "stdout",
     "output_type": "stream",
     "text": [
      "[[-3.56518136  3.55288054]\n",
      " [ 2.63885204  2.24871457]\n",
      " [-1.66817574  2.70333637]\n",
      " [ 4.48082197  3.3211104 ]]\n",
      "[[-3.41800871  2.93589971]\n",
      " [ 2.62853943 -0.12325638]\n",
      " [-2.81673367 -0.71971252]\n",
      " [ 3.777752    4.034599  ]]\n",
      "[[-2.45009747  2.89275747]\n",
      " [ 2.84369962 -2.01546021]\n",
      " [-3.34887714 -2.76960033]\n",
      " [ 2.5212765   3.49464725]]\n",
      "[[-2.46154315  2.78737555]\n",
      " [ 2.80293085 -2.7315146 ]\n",
      " [-3.38237045 -2.9473363 ]\n",
      " [ 2.6265299   3.10868015]]\n"
     ]
    },
    {
     "data": {
      "image/png": "[encoded data removed]",
      "text/plain": [
       "<Figure size 432x288 with 2 Axes>"
      ]
     },
     "metadata": {
      "needs_background": "light"
     },
     "output_type": "display_data"
    }
   ],
   "source": [
    "showPlt(datMat)"
   ]
  },
  {
   "cell_type": "markdown",
   "metadata": {},
   "source": [
    "## 二分 K-均值算法\n",
    "二分K-均值聚类算法"
   ]
  },
  {
   "cell_type": "code",
   "execution_count": 18,
   "metadata": {},
   "outputs": [],
   "source": [
    "def biKmeans(dataSet, k, distMeas=distEclud):\n",
    "    '''input:  dataSet                 输入数据集\n",
    "               k                       簇的个数\n",
    "               distMeas                距离计算方法（默认为欧式距离）\n",
    "       output：mat(centList)               质心\n",
    "               clusterAssment          簇分配结果矩阵，每个数据点到当前迭代的质心的距离\n",
    "              \n",
    "    '''\n",
    "    m = shape(dataSet)[0]\n",
    "    clusterAssment = mat(zeros((m,2)))\n",
    "    centroid0 = mean(dataSet, axis=0).tolist()[0]                            # create a list with one centroid 创建一个初始簇，包含所有样本点，并计算其质心\n",
    "    centList =[centroid0]                                                    # 初始化质心列表\n",
    "                                                                             # calc initial Error，SSE\n",
    "    for j in range(m):                                                       # 遍历每个样本点\n",
    "        clusterAssment[j,1] = distMeas(mat(centroid0), dataSet[j,:])**2      # 计算误差平方和\n",
    "    while (len(centList) < k):                                               # 当质心个数小于k时\n",
    "        lowestSSE = inf                                                      # 初始化最小的总SSE\n",
    "        for i in range(len(centList)):                                       # 遍历质心（/簇），决定最佳的簇进行划分\n",
    "            ptsInCurrCluster = dataSet[nonzero(clusterAssment[:,0].A==i)[0],:]# get the data points currently in cluster i 得到当前迭代阶段，第i个簇的数据点\n",
    "            centroidMat, splitClustAss = kMeans(ptsInCurrCluster, 2, distMeas)# 对该簇进行二分kmeans，返回两个质心及原簇中每个数据点的误差平方\n",
    "                                                                              # compare the SSE to the currrent minimum \n",
    "            sseSplit = sum(splitClustAss[:,1])                                # 计算第i个簇二分后的SSE\n",
    "            sseNotSplit = sum(clusterAssment[nonzero(clusterAssment[:,0].A!=i)[0],1]) #计算其他簇的SSE\n",
    "            print(\"sseSplit, and notSplit: \",sseSplit,sseNotSplit)\n",
    "            if (sseSplit + sseNotSplit) < lowestSSE:                          # 若总的SSE小于当前最小SSE\n",
    "                bestCentToSplit = i                                           # 保存该次划分的原簇索引\n",
    "                bestNewCents = centroidMat                                    # 保存当前最佳质心\n",
    "                bestClustAss = splitClustAss.copy()                           # 保存当前簇分配结果矩阵\n",
    "                lowestSSE = sseSplit + sseNotSplit                            # 保存当前最小SSE\n",
    "                                                                              # 当使用kmeans函数进行二分时，会得到两个编号为0，1的结果簇，须将簇索引进行修改\n",
    "        bestClustAss[nonzero(bestClustAss[:,0].A == 0)[0],0] = bestCentToSplit# 更新簇分配结果\n",
    "        bestClustAss[nonzero(bestClustAss[:,0].A == 1)[0],0] = len(centList)    \n",
    "        print('the bestCentToSplit is: ',bestCentToSplit)\n",
    "        print('the len of bestClustAss is: ', len(bestClustAss))\n",
    "                                                                              # replace a centroid with two best centroids  新的质心加入\n",
    "        centList[bestCentToSplit] = bestNewCents[0,:].tolist()[0]             \n",
    "        centList.append(bestNewCents[1,:].tolist()[0])\n",
    "        clusterAssment[nonzero(clusterAssment[:,0].A == bestCentToSplit)[0],:]= bestClustAss# reassign new clusters, and SSE\n",
    "    return mat(centList), clusterAssment"
   ]
  },
  {
   "cell_type": "code",
   "execution_count": 19,
   "metadata": {},
   "outputs": [
    {
     "name": "stdout",
     "output_type": "stream",
     "text": [
      "[[2.43280707 3.10476198]\n",
      " [2.69325125 2.48890488]]\n",
      "[[-0.84735206  3.46862312]\n",
      " [ 0.63042504 -1.33843332]]\n",
      "[[-0.26853357  3.36606168]\n",
      " [ 0.02053813 -2.21845543]]\n",
      "[[-0.06953469  3.29844341]\n",
      " [-0.32150057 -2.62473743]]\n",
      "[[-0.00675605  3.22710297]\n",
      " [-0.45965615 -2.7782156 ]]\n",
      "sseSplit, and notSplit:  453.0334895807502 0.0\n",
      "the bestCentToSplit is:  0\n",
      "the len of bestClustAss is:  60\n",
      "[[-0.64191518  3.22140454]\n",
      " [-4.29847385  4.23461537]]\n",
      "[[ 1.71544126  3.19785696]\n",
      " [-3.58362738  3.28784469]]\n",
      "[[ 2.76275171  3.12704005]\n",
      " [-3.06779095  3.33769884]]\n",
      "[[ 2.93386365  3.12782785]\n",
      " [-2.94737575  3.3263781 ]]\n",
      "sseSplit, and notSplit:  77.59224931775066 29.15724944412535\n",
      "[[-1.02830639 -2.40518368]\n",
      " [-0.47390119 -1.82956941]]\n",
      "[[-0.79119775 -3.01183442]\n",
      " [ 0.03765625 -2.42778737]]\n",
      "[[-1.02964518 -2.81778218]\n",
      " [ 0.23699711 -2.72985644]]\n",
      "[[-1.07894467 -2.43015258]\n",
      " [ 0.46927663 -3.30031012]]\n",
      "[[-1.12616164 -2.30193564]\n",
      " [ 0.35496167 -3.36033556]]\n",
      "sseSplit, and notSplit:  12.753263136887313 423.8762401366249\n",
      "the bestCentToSplit is:  0\n",
      "the len of bestClustAss is:  40\n"
     ]
    }
   ],
   "source": [
    "datMat3=mat(loadDataSet('testSet2.txt'))\n",
    "centList,myNewAssments=biKmeans(datMat3, 3)"
   ]
  },
  {
   "cell_type": "code",
   "execution_count": 20,
   "metadata": {},
   "outputs": [
    {
     "data": {
      "text/plain": [
       "matrix([[ 2.93386365,  3.12782785],\n",
       "        [-0.45965615, -2.7782156 ],\n",
       "        [-2.94737575,  3.3263781 ]])"
      ]
     },
     "execution_count": 20,
     "metadata": {},
     "output_type": "execute_result"
    }
   ],
   "source": [
    "centList"
   ]
  },
  {
   "cell_type": "code",
   "execution_count": 21,
   "metadata": {},
   "outputs": [
    {
     "name": "stdout",
     "output_type": "stream",
     "text": [
      "[[-1.64294741 -0.54936566]\n",
      " [ 2.86986901  2.56757723]]\n",
      "[[-1.73028592  0.20133246]\n",
      " [ 2.76275171  3.12704005]]\n",
      "[[-1.70351595  0.27408125]\n",
      " [ 2.93386365  3.12782785]]\n",
      "sseSplit, and notSplit:  541.2976292649145 0.0\n",
      "the bestCentToSplit is:  0\n",
      "the len of bestClustAss is:  60\n",
      "[[-3.21956364  0.13868122]\n",
      " [-3.65376031 -2.62732035]]\n",
      "[[-2.70276287  2.73635965]\n",
      " [-0.35159365 -3.05723659]]\n",
      "[[-2.94737575  3.3263781 ]\n",
      " [-0.45965615 -2.7782156 ]]\n",
      "sseSplit, and notSplit:  67.2202000797829 39.52929868209309\n",
      "[[4.26021192 2.25639706]\n",
      " [2.64831317 3.91693318]]\n",
      "[[3.70083043 2.36911829]\n",
      " [2.52088154 3.53636377]]\n",
      "[[3.67729122 2.56674644]\n",
      " [2.32560473 3.58689445]]\n",
      "[[3.7472375 2.7964297]\n",
      " [2.1204898 3.459226 ]]\n",
      "[[3.67574036 2.82216836]\n",
      " [2.02712544 3.50141167]]\n",
      "sseSplit, and notSplit:  23.79175073044931 501.7683305828214\n",
      "the bestCentToSplit is:  0\n",
      "the len of bestClustAss is:  40\n"
     ]
    },
    {
     "data": {
      "image/png": "[encoded data removed]",
      "text/plain": [
       "<Figure size 432x288 with 2 Axes>"
      ]
     },
     "metadata": {
      "needs_background": "light"
     },
     "output_type": "display_data"
    }
   ],
   "source": [
    "showPlt(datMat3, alg=biKmeans, numClust=3)"
   ]
  },
  {
   "cell_type": "code",
   "execution_count": null,
   "metadata": {},
   "outputs": [],
   "source": []
  },
  {
   "cell_type": "code",
   "execution_count": null,
   "metadata": {},
   "outputs": [],
   "source": []
  },
  {
   "cell_type": "code",
   "execution_count": null,
   "metadata": {},
   "outputs": [],
   "source": []
  },
  {
   "cell_type": "code",
   "execution_count": null,
   "metadata": {},
   "outputs": [],
   "source": []
  },
  {
   "cell_type": "code",
   "execution_count": null,
   "metadata": {},
   "outputs": [],
   "source": []
  },
  {
   "cell_type": "code",
   "execution_count": null,
   "metadata": {},
   "outputs": [],
   "source": []
  },
  {
   "cell_type": "code",
   "execution_count": null,
   "metadata": {},
   "outputs": [],
   "source": []
  },
  {
   "cell_type": "code",
   "execution_count": null,
   "metadata": {},
   "outputs": [],
   "source": []
  },
  {
   "cell_type": "code",
   "execution_count": null,
   "metadata": {},
   "outputs": [],
   "source": []
  },
  {
   "cell_type": "code",
   "execution_count": null,
   "metadata": {},
   "outputs": [],
   "source": []
  }
 ],
 "metadata": {
  "kernelspec": {
   "display_name": "Python 3",
   "language": "python",
   "name": "python3"
  },
  "language_info": {
   "codemirror_mode": {
    "name": "ipython",
    "version": 3
   },
   "file_extension": ".py",
   "mimetype": "text/x-python",
   "name": "python",
   "nbconvert_exporter": "python",
   "pygments_lexer": "ipython3",
   "version": "3.6.7"
  }
 },
 "nbformat": 4,
 "nbformat_minor": 2
}
