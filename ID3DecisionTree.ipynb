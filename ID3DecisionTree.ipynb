{
 "cells": [
  {
   "cell_type": "markdown",
   "metadata": {},
   "source": [
    "# 决策树\n",
    "decision tree决策树学习的算法通常是一个递归地选择最优特征，并根据该特征对训练数据进行分割，使得各个子数据集有一个最好的分类的过程。\n",
    "### 基本思路：\n",
    "1） 开始：构建根节点，将所有训练数据都放在根节点，选择一个最优特征，按着这一特征将训练数据集分割成子集，使得各个子集有一个在当前条件下最好的分类。\n",
    "2） 如果这些子集已经能够被基本正确分类，那么构建叶节点，并将这些子集分到所对应的叶节点去。\n",
    "3）如果还有子集不能够被正确的分类，那么就对这些子集选择新的最优特征，继续对其进行分割，构建相应的节点，如果递归进行，直至所有训练数据子集被基本正确的分类，或者没有合适的特征为止。\n",
    "4）每个子集都被分到叶节点上，即都有了明确的类，这样就生成了一颗决策树。\n",
    "### 特点\n",
    "优点：计算复杂度不高，输出结果易于理解，对中间值的缺失不敏感，可以处理不相关特征数据。\n",
    "缺点：可能会产生过度匹配的问题\n",
    "适用数据类型：数值型和标称型\n",
    "### 创建分支的伪代码：  \n",
    "createBranch()\n",
    "    检测数据集中每个子项是否属于同一类：\n",
    "        If so return 类标签：\n",
    "        Else\n",
    "             寻找划分数据集的最好特征\n",
    "             划分数据集\n",
    "             创建分支节点\n",
    "                 for 每个划分的子集\n",
    "                     调用函数createBranch()并增加返回结果到分支节点中#调用函数本身,递归 \n",
    "                 return 分支节点"
   ]
  },
  {
   "cell_type": "markdown",
   "metadata": {},
   "source": [
    "## 信息增益\n",
    "划分数据集的大原则是：将无序数据变得更加有序\n",
    "信息论是量化处理信息的分支科学，在划分数据集前后信息发生的变化称为信息增益\n",
    "获得信息增益最高的特征就是最好的选择\n",
    "集合信息的度量方式称为香农熵，或者简称熵。\n",
    "熵定义为信息的期望值\n",
    "为了计算熵，我们需要计算所有类别所有可能值所包含的信息期望值"
   ]
  },
  {
   "cell_type": "markdown",
   "metadata": {},
   "source": [
    "### 具体计算公式\n",
    "根据信息增益最大原则，选择最好的数据集划分方式\n",
    "特征$A$对训练集$D$的信息增益$g(D,A)$，定义为集合$D$的经验熵$H(D)$与特征$A$给定条件下$D$的经验条件熵$H(D|A)$之差，即  \n",
    "               $$g(D,A) = H(D) - H(D|A)$$\n",
    "设训练数据集为$D$，$|D|$表示其样本容量，即样本个数。设有$K$个类$C_k$，$k=1,2,…,K$，$|C_k|$为属于类$C_k$的样本个数，$\\sum_{k=1}^K|C_k|=|D|$。\n",
    "设特征$A$有$n$个不同的取值${a_1,a_2,…,a_n}$，根据特征$A$的取值将$D$划分为$n$个子集$D_1,D_2,…,D_n$，$|D_i|$为$D_i$的样本个数，$\\sum_{i=1}^n|D_i|=|D|$。  \n",
    "记子集$D_i$中属于类$C_k$的样本的集合为$D_ik$，即$D_{ik}=D_i\\bigcap C_k$，$|D_{ik}|$为$D_{ik}$的样本个数，于是信息增益的算法如下：  \n",
    "输入：训练数据集$D$和特征$A$；  \n",
    "输出：特征$A$对训练数据集$D$的信息增益$g(D,A)$。  \n",
    "（1）计算数据集$D$的经验熵$H(D)$   \n",
    "$$H(D) = -\\sum_{k=1}^K\\frac{|C_k|}{|D|}log_2\\frac{|C_k|}{|D|}$$\n",
    "（2）计算特征$A$对数据集$D$的经验条件熵$H(D|A)$\n",
    "$$H(D|A) = \\sum_{i=1}^n\\frac{|D_i|}{|D|}H(D_i)=-\\sum_{i=1}^n\\frac{|D_i|}{|D|}\\sum_{k=1}^K\\frac{|D_{ik}|}{|D_i|}log_2\\frac{|D_{ik}|}{|D_i|}$$\n",
    "（3）计算信息增益\n",
    "$$g(D,A) = H(D) - H(D|A)$$"
   ]
  },
  {
   "cell_type": "markdown",
   "metadata": {},
   "source": [
    "**说明:**\n",
    "将数据集文件 'lenses.txt' 放在当前文件夹"
   ]
  },
  {
   "cell_type": "code",
   "execution_count": 2,
   "metadata": {},
   "outputs": [],
   "source": [
    "from math import log\n",
    "import operator"
   ]
  },
  {
   "cell_type": "code",
   "execution_count": 3,
   "metadata": {},
   "outputs": [],
   "source": [
    "## 熵的定义\n",
    "def calcShannonEnt(dataSet):\n",
    "    numEntries = len(dataSet)                                               #计算实例的总数\n",
    "    labelCounts = {}\n",
    "    for featVec in dataSet:                                                 #逐行读取样本 #the the number of unique elements and their occurance\n",
    "        currentLabel = featVec[-1]                                          # 当前样本类别\n",
    "        if currentLabel not in labelCounts.keys(): labelCounts[currentLabel] = 0\n",
    "        labelCounts[currentLabel] += 1                                      # 统计每种类别出现的次数，保存为字典\n",
    "    shannonEnt = 0.0\n",
    "    for key in labelCounts:\n",
    "        prob = float(labelCounts[key])/numEntries                           # 每种类别出现的频率\n",
    "        shannonEnt -= prob * log(prob, 2) #log base 2                       # 按香农公式计算香农熵\n",
    "    return shannonEnt"
   ]
  },
  {
   "cell_type": "code",
   "execution_count": 4,
   "metadata": {},
   "outputs": [],
   "source": [
    "## 划分数据集: 按照给定特征划分数据集\n",
    "def splitDataSet(dataSet, axis, value):\n",
    "    retDataSet = []                                                        # 初始化分割后的样本集为空\n",
    "    for featVec in dataSet:                                                # 逐行读取样本\n",
    "        if featVec[axis] == value:                                         # axis代表选取的特征列索引，value代表特征的某一取值\n",
    "            reducedFeatVec = featVec[:axis]     #chop out axis used for splitting     # 取出特征列左侧的数据\n",
    "            reducedFeatVec.extend(featVec[axis+1:])                                   # 合并特征列右侧的数据\n",
    "            \"\"\"\n",
    "            返回值为一样本子集，样本数量（行数）与axis指向特征取值为value的样本子集（记为C）相同\n",
    "            该样本子集是在上述样本子集C的基础上剔除掉axis指向特征取值为value的一列\n",
    "            （exg：贷款申请样本集中，axis指向年龄，value代表青年，返回值即为包含青年的样本子集中\n",
    "            剔除掉青年所在列后的样本集）\n",
    "            \"\"\" \n",
    "            retDataSet.append(reducedFeatVec)\n",
    "    return retDataSet"
   ]
  },
  {
   "cell_type": "code",
   "execution_count": 5,
   "metadata": {},
   "outputs": [],
   "source": [
    "## 选择最好的数据集划分方式\n",
    "def chooseBestFeatureToSplit(dataSet):\n",
    "    numFeatures = len(dataSet[0]) - 1                       # 特征数量\n",
    "    baseEntropy = calcShannonEnt(dataSet)                   # 基础熵为样本集本身的香农熵\n",
    "    bestInfoGain = 0.0; bestFeature = -1                    # 初始化最大信息增益为0；最佳特征索引为-1\n",
    "    for i in range(numFeatures):                            # 遍历所有特征\n",
    "        featList = [example[i] for example in dataSet]      # 取出第i个特征列数据\n",
    "        uniqueVals = set(featList)                          # 第i个特征列的取值集合（集合类型特征值互不相同）\n",
    "        newEntropy = 0.0                                    # 初始化当前特征香农熵为0\n",
    "        for value in uniqueVals:\n",
    "            subDataSet = splitDataSet(dataSet, i, value)    # 利用当前特征的每个取值分割样本集\n",
    "            prob = len(subDataSet)/float(len(dataSet))      # 当前样本子集在全体样本集中的占比\n",
    "            newEntropy += prob * calcShannonEnt(subDataSet) # 当前样本子集的香农熵\n",
    "        infoGain = baseEntropy - newEntropy                 # 计算信息增益\n",
    "        if (infoGain > bestInfoGain):                       # 与历史最大信息增益比较\n",
    "            bestInfoGain = infoGain                         # 更新最大信息增益\n",
    "            bestFeature = i                                 # 更新最佳特征索引\n",
    "    return bestFeature                                      # 返回最佳特征列索引"
   ]
  },
  {
   "cell_type": "code",
   "execution_count": 6,
   "metadata": {},
   "outputs": [],
   "source": [
    "## 多数表决法决定该叶子节点的分类\n",
    "def majorityCnt(classList):\n",
    "    classCount={}\n",
    "    for vote in classList:\n",
    "        if vote not in classCount.keys(): classCount[vote] = 0\n",
    "        classCount[vote] += 1\n",
    "    sortedClassCount = sorted(classCount.items(), key=operator.itemgetter(1), reverse=True)\n",
    "    return sortedClassCount[0][0]"
   ]
  },
  {
   "cell_type": "code",
   "execution_count": 7,
   "metadata": {},
   "outputs": [],
   "source": [
    "## 递归构建决策树\n",
    "def createTree(dataSet, labels):                           # labels为每个特征的名称/说明\n",
    "    classList = [example[-1] for example in dataSet]       # 取出类别列\n",
    "    if classList.count(classList[0]) == len(classList):    # 只有1个类别时停止分割，返回当前类别\n",
    "        return classList[0]\n",
    "    if len(dataSet[0]) == 1:                               # 当没有更多特征时停止分割，返回实例中数量最多的类\n",
    "        return majorityCnt(classList)                  \n",
    "    \n",
    "    bestFeat = chooseBestFeatureToSplit(dataSet)            # 最佳特征对应的列号\n",
    "    bestFeatLabel = labels[bestFeat]                        # 最佳特征名称/说明\n",
    "    myTree = {bestFeatLabel:{}}                             # 嵌套创建树，初始化\n",
    "    del(labels[bestFeat])                                   # 从特征名中删除掉已经选为最佳特征的\n",
    "    featValues = [example[bestFeat] for example in dataSet] # 最佳特征数据列\n",
    "    uniqueVals = set(featValues)                            # 最佳特征列的取值集合\n",
    "    for value in uniqueVals:                                # 对最佳特征列的每一个取值进行迭代\n",
    "        subLabels = labels[:]                               # 拷贝特征名，避免搞乱原有值\n",
    "        \"\"\"\n",
    "        以下在以当前最佳特征为节点的下方递归构建树\n",
    "        \"\"\"\n",
    "        myTree[bestFeatLabel][value] = createTree(splitDataSet(dataSet, bestFeat, value), subLabels)\n",
    "    return myTree"
   ]
  },
  {
   "cell_type": "code",
   "execution_count": 17,
   "metadata": {},
   "outputs": [],
   "source": [
    "import matplotlib.pyplot as plt\n",
    "import numpy as np\n",
    "#图形设置\n",
    "decisionNode = dict(boxstyle = \"sawtooth\", fc = \"0.8\")\n",
    "leafNode = dict(boxstyle = \"round4\", fc = \"0.8\")\n",
    "arrow_args = dict(arrowstyle = \"<-\")\n",
    "def plotNode(nodeTxt, centerPt, parentPt, nodeType):\n",
    "    \"\"\"\n",
    "    绘制节点\n",
    "    参数：\n",
    "        nodeTxt -- 点的内容\n",
    "        centerPt -- 中心点\n",
    "        parentPt -- 父节点\n",
    "        nodeType -- 点类型\n",
    "    返回：\n",
    "        无\n",
    "    \"\"\"\n",
    "    createPlot.ax1.annotate(nodeTxt, xy = parentPt, \\\n",
    "            xycoords = 'axes fraction', xytext = centerPt, \\\n",
    "            textcoords = 'axes fraction', va = \"center\", \\\n",
    "            ha = \"center\", bbox = nodeType, arrowprops = arrow_args)\n",
    "def createPlot():\n",
    "    \"\"\"\n",
    "    进行绘制\n",
    "    参数：\n",
    "        无\n",
    "    返回：\n",
    "        无\n",
    "    \"\"\"\n",
    "    fig = plt.figure(1, facecolor = 'white')\n",
    "    fig.clf()\n",
    "    createPlot.ax1 = plt.subplot(111, frameon = False)\n",
    "    plotNode('decisionNode', (0.5, 0.1), (0.1, 0.5), decisionNode)\n",
    "    plotNode('leafNode', (0.8, 0.1), (0.3, 0.8), leafNode)\n",
    "    plt.show()\n",
    "    \n",
    "def plotMidText(cntrPt, parentPt, txtString):\n",
    "    \"\"\"\n",
    "    绘制注释\n",
    "    参数：\n",
    "        cntrPt -- 中心点位置\n",
    "        parentPt -- 父节点位置\n",
    "        txtString -- 文本字符串\n",
    "    返回：\n",
    "        无\n",
    "    \"\"\"\n",
    "    #绘制注释的坐标位置\n",
    "    xMid = (parentPt[0] - cntrPt[0]) / 2.0 + cntrPt[0]\n",
    "    yMid = (parentPt[1] - cntrPt[1]) / 2.0 + cntrPt[1]\n",
    "    #绘制注释\n",
    "    createPlot.ax1.text(xMid, yMid, txtString)\n",
    "def getNumLeafs(myTree):\n",
    "    \"\"\"\n",
    "    获取叶节点的数目\n",
    "    参数：\n",
    "        myTree -- 决策树\n",
    "    返回：\n",
    "        numLeafs -- 叶节点的数目\n",
    "    \"\"\"\n",
    "    #初始化叶节点的数目\n",
    "    numLeafs = 0\n",
    "    #根节点的类名称\n",
    "    firstStr = list(myTree.keys())[0]\n",
    "    #根节点对应的字典\n",
    "    secondDict = myTree[firstStr]\n",
    "    #遍历字典中的每一个关键词\n",
    "    for key in list(secondDict.keys()):\n",
    "        #如果关键词下存放的还是字典，说明不是叶节点\n",
    "        if type(secondDict[key]).__name__ == 'dict':\n",
    "            #递归调用函数，统计子节点中的叶节点数目\n",
    "            numLeafs += getNumLeafs(secondDict[key])\n",
    "        #是叶节点，计数器++\n",
    "        else:\n",
    "            numLeafs += 1\n",
    "    return numLeafs\n",
    "def getTreeDepth(myTree):\n",
    "    \"\"\"\n",
    "    获得树的深度\n",
    "    参数：\n",
    "        myTree -- 决策树\n",
    "    返回：\n",
    "        maxDepth -- 树的深度\n",
    "    \"\"\"\n",
    "    #初始化树的深度\n",
    "    maxDepth = 0\n",
    "    firstStr = list(myTree.keys())[0]\n",
    "    secondDict = myTree[firstStr]\n",
    "    for key in list(secondDict.keys()):\n",
    "        if type(secondDict[key]).__name__ == 'dict':\n",
    "            #深度 = 1 + 子树的深度\n",
    "            thisDepth = 1 + getTreeDepth(secondDict[key])\n",
    "        else:\n",
    "            thisDepth = 1\n",
    "        if thisDepth > maxDepth:\n",
    "            maxDepth = thisDepth\n",
    "    return maxDepth\n",
    "def retrieveTree(i):\n",
    "    listOfTrees = [{'no surfacing': {0: 'no', 1:{'flippers': \\\n",
    "                    {0: 'no', 1: 'yes'}}}},\n",
    "                  {'no surfacing': {0: 'no', 1: {'flippers': \\\n",
    "                    {0: {'head': {0: 'no', 1: 'yes'}}, 1: 'no'}}}}\n",
    "                  ]\n",
    "    return listOfTrees[i]\n",
    "def plotTree(myTree, parentPt, nodeTxt):\n",
    "    \"\"\"\n",
    "    绘制决策树\n",
    "    参数：\n",
    "        myTree -- 决策树\n",
    "        parentPt -- 父节点位置\n",
    "        nodeTxt -- 节点文本信息\n",
    "    返回：\n",
    "        无\n",
    "    \"\"\"\n",
    "    #求树的叶节点数和层数\n",
    "    numLeafs = getNumLeafs(myTree)\n",
    "    depth = getTreeDepth(myTree)\n",
    "    firstStr = list(myTree.keys())[0]\n",
    "    cntrPt = (plotTree.xOff + (1.0 + np.float(numLeafs)) / 2.0 \\\n",
    "             / plotTree.totalW, plotTree.yOff)\n",
    "    plotMidText(cntrPt, parentPt, nodeTxt)\n",
    "    plotNode(firstStr, cntrPt, parentPt, decisionNode)\n",
    "    secondDict = myTree[firstStr]\n",
    "    plotTree.yOff = plotTree.yOff - 1.0 / plotTree.totalD\n",
    "    for key in list(secondDict.keys()):\n",
    "        if type(secondDict[key]).__name__ == 'dict':\n",
    "            plotTree(secondDict[key], cntrPt, str(key))\n",
    "        else:\n",
    "            plotTree.xOff = plotTree.xOff + 1.0 / plotTree.totalW\n",
    "            plotNode(secondDict[key], (plotTree.xOff, plotTree.yOff),\\\n",
    "                    cntrPt, leafNode)\n",
    "            plotMidText((plotTree.xOff, plotTree.yOff), cntrPt, str(key))\n",
    "    plotTree.yOff = plotTree.yOff + 1.0 / plotTree.totalD   \n",
    "def createPlotTree(inTree):\n",
    "    \"\"\"\n",
    "    进行绘制\n",
    "    参数：\n",
    "        inTree -- 决策树\n",
    "    返回：\n",
    "        无\n",
    "    \"\"\"\n",
    "    fig = plt.figure(1, facecolor = 'white')\n",
    "    fig.clf()\n",
    "    axprops = dict(xticks = [], yticks = [])\n",
    "    createPlot.ax1 = plt.subplot(111, frameon = False, **axprops)\n",
    "    plotTree.totalW = np.float(getNumLeafs(inTree))\n",
    "    plotTree.totalD = np.float(getTreeDepth(inTree))\n",
    "    plotTree.xOff = -0.5 / plotTree.totalW\n",
    "    plotTree.yOff = 1.0\n",
    "    plotTree(inTree, (0.5, 1.0), '')\n",
    "    plt.show()"
   ]
  },
  {
   "cell_type": "code",
   "execution_count": 9,
   "metadata": {},
   "outputs": [],
   "source": [
    "#使用决策树执行预测分类\n",
    "def classify(inputTree, featLabels, testVec):   #输入已构造的决策树，特征标签列表，待预测特征值\n",
    "    firstStr = list(inputTree)[0]\n",
    "    secondDict = inputTree[firstStr]\n",
    "    featIndex = featLabels.index(firstStr)      #index方法查找当前列表中第一个匹配firstStr变量的元素\n",
    "    key = testVec[featIndex]\n",
    "    valueOfFeat = secondDict[key]\n",
    "    if isinstance(valueOfFeat, dict):\n",
    "        classLabel = classify(valueOfFeat, featLabels, testVec)\n",
    "    else: classLabel = valueOfFeat\n",
    "    return classLabel"
   ]
  },
  {
   "cell_type": "markdown",
   "metadata": {},
   "source": [
    "## 使用决策树预测隐形眼镜类型"
   ]
  },
  {
   "cell_type": "code",
   "execution_count": 18,
   "metadata": {},
   "outputs": [
    {
     "name": "stdout",
     "output_type": "stream",
     "text": [
      "{'tearRate': {'normal': {'astigmatic': {'no': {'age': {'young': 'soft', 'pre': 'soft', 'presbyopic': {'prescript': {'hyper': 'soft', 'myope': 'no lenses'}}}}, 'yes': {'prescript': {'hyper': {'age': {'young': 'hard', 'pre': 'no lenses', 'presbyopic': 'no lenses'}}, 'myope': 'hard'}}}}, 'reduced': 'no lenses'}}\n"
     ]
    },
    {
     "data": {
      "image/png": "[encoded data removed]",
      "text/plain": [
       "<Figure size 432x288 with 1 Axes>"
      ]
     },
     "metadata": {},
     "output_type": "display_data"
    }
   ],
   "source": [
    "with open('lenses.txt') as fr:                      \n",
    "    lenses = [inst.strip().split('\\t') for inst in fr.readlines()]\n",
    "lensesLabels = ['age', 'prescript', 'astigmatic', 'tearRate']\n",
    "lensesTree = createTree(lenses,lensesLabels)      #生成决策树\n",
    "print(lensesTree)\n",
    "createPlotTree(lensesTree)                        #绘制决策树"
   ]
  },
  {
   "cell_type": "code",
   "execution_count": 19,
   "metadata": {},
   "outputs": [
    {
     "data": {
      "text/plain": [
       "'no lenses'"
      ]
     },
     "execution_count": 19,
     "metadata": {},
     "output_type": "execute_result"
    }
   ],
   "source": [
    "## 使用决策树模型进行预测\n",
    "lensesLabels = ['age', 'prescript', 'astigmatic', 'tearRate']\n",
    "classify(lensesTree, lensesLabels, lenses[0][:-1])    #对lenses数据集第一行数据进行预测\n"
   ]
  },
  {
   "cell_type": "code",
   "execution_count": 20,
   "metadata": {},
   "outputs": [
    {
     "name": "stdout",
     "output_type": "stream",
     "text": [
      "['no lenses', 'soft', 'no lenses', 'hard', 'no lenses', 'soft', 'no lenses', 'hard', 'no lenses', 'soft', 'no lenses', 'hard', 'no lenses', 'soft', 'no lenses', 'no lenses', 'no lenses', 'no lenses', 'no lenses', 'hard', 'no lenses', 'soft', 'no lenses', 'no lenses']\n"
     ]
    }
   ],
   "source": [
    "#对 lenses 数据集所有数据进行决策树分类预测\n",
    "preds = []\n",
    "for i in range(len(lenses)):\n",
    "    pred = classify(lensesTree, lensesLabels, lenses[i][:-1])\n",
    "    preds.append(pred)\n",
    "print(preds)"
   ]
  },
  {
   "cell_type": "code",
   "execution_count": null,
   "metadata": {},
   "outputs": [],
   "source": []
  }
 ],
 "metadata": {
  "kernelspec": {
   "display_name": "Python 3",
   "language": "python",
   "name": "python3"
  },
  "language_info": {
   "codemirror_mode": {
    "name": "ipython",
    "version": 3
   },
   "file_extension": ".py",
   "mimetype": "text/x-python",
   "name": "python",
   "nbconvert_exporter": "python",
   "pygments_lexer": "ipython3",
   "version": "3.7.1"
  }
 },
 "nbformat": 4,
 "nbformat_minor": 2
}
