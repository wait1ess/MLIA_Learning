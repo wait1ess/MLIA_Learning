{
 "cells": [
  {
   "cell_type": "markdown",
   "metadata": {},
   "source": [
    "# FP-growth 算法简介\n",
    "一种非常好的发现频繁项集算法。\n",
    "基于Apriori算法构建,但是数据结构不同，使用叫做 FP树 的数据结构结构来存储集合。\n",
    "### FP-growth 算法步骤\n",
    "基于数据构建FP树\n",
    "从FP树种挖掘频繁项集"
   ]
  },
  {
   "cell_type": "markdown",
   "metadata": {},
   "source": [
    "### FP树"
   ]
  },
  {
   "cell_type": "code",
   "execution_count": null,
   "metadata": {},
   "outputs": [],
   "source": [
    "#FP树的节点结构如下:\n",
    "class treeNode:\n",
    "    def __init__(self, nameValue, numOccur, parentNode):\n",
    "        self.name = nameValue     # 节点名称\n",
    "        self.count = numOccur     # 节点出现次数\n",
    "        self.nodeLink = None      # 不同项集的相同项通过nodeLink连接在一起\n",
    "        # needs to be updated\n",
    "        self.parent = parentNode  # 指向父节点\n",
    "        self.children = {}        # 存储叶子节点"
   ]
  },
  {
   "cell_type": "markdown",
   "metadata": {},
   "source": [
    "### FP-growth 原理\n",
    "（1）基于数据构建FP树\n",
    "步骤1:\n",
    "    遍历所有的数据集合，计算所有项的支持度。\n",
    "    丢弃非频繁的项。\n",
    "    基于支持度降序排序所有的项。 \n",
    "    所有数据集合按照得到的顺序重新整理。\n",
    "    重新整理完成后，丢弃每个集合末尾非频繁项。 \n",
    "步骤2: \n",
    "    读取每个集合插入FP树中，同时用一个头部链表数据结构维护不同集合的相同项\n",
    "    最终得到一棵FP树(带头指针表的FP树)\n",
    "\n",
    "（2）从FP树中挖掘出频繁项集\n",
    "步骤3:\n",
    "    对头部链表进行降序排序\n",
    "    对头部链表节点从小到大遍历，得到条件模式基（conditional pattern base），同时获得一个频繁项集。 条件模式基的值取决于末尾节点，一个频繁项集的支持度由支持度最小的项决定。所以 t 节点的条件模式基的值可以理解为对于以 t 节点为末尾的前缀路径出现次数。\n",
    "    条件模式基继续构造条件 FP树， 得到频繁项集，和之前的频繁项组合起来，这是一个递归遍历头部链表生成FP树的过程，递归截止条件是生成的FP树的头部链表为空。"
   ]
  },
  {
   "cell_type": "markdown",
   "metadata": {},
   "source": [
    "#### FP-growth 算法优缺点:\n",
    "* 优点： 1. 因为 FP-growth 算法只需要对数据集遍历两次，所以速度更快。\n",
    "        2. FP树将集合按照支持度降序排序，不同路径如果有相同前缀路径共用存储空间，使得数据得到了压缩。\n",
    "        3. 不需要生成候选集。\n",
    "        4. 比Apriori更快。\n",
    "* 缺点： 1. FP-Tree第二次遍历会存储很多中间过程的值，会占用很多内存。\n",
    "        2. 构建FP-Tree是比较昂贵的。\n",
    "* 适用数据类型：标称型数据(离散型数据)。"
   ]
  },
  {
   "cell_type": "markdown",
   "metadata": {},
   "source": [
    "### （1）基于数据构建FP树"
   ]
  },
  {
   "cell_type": "markdown",
   "metadata": {},
   "source": [
    "main 方法大致步骤:\n",
    "if __name__ == \"__main__\":\n",
    "    simpDat = loadSimpDat()                       #加载数据集。\n",
    "    initSet = createInitSet(simpDat)              #对数据集进行整理，相同集合进行合并。\n",
    "    myFPtree, myHeaderTab = createTree(initSet, 3)#创建FP树。\n",
    "    freqItemList = []\n",
    "    mineTree(myFPtree, myHeaderTab, 3, set([]), freqItemList) #递归的从FP树中挖掘出频繁项集。\n",
    "    print freqItemList"
   ]
  },
  {
   "cell_type": "code",
   "execution_count": null,
   "metadata": {},
   "outputs": [],
   "source": [
    "#FP树的节点结构如下:\n",
    "class treeNode:\n",
    "    def __init__(self, nameValue, numOccur, parentNode):\n",
    "        '''创建节点时\n",
    "           input：  nameValue        节点名称\n",
    "                    numOccur         节点出现次数         \n",
    "                    parentNode       父节点\n",
    "        '''\n",
    "        self.name = nameValue                                                     # 节点名称\n",
    "        self.count = numOccur                                                     # 节点出现次数\n",
    "        self.nodeLink = None                                                      # 不同项集的相同项通过nodeLink连接在一起\n",
    "        # needs to be updated\n",
    "        self.parent = parentNode  # 指向父节点\n",
    "        self.children = {}        # 存储叶子节点\n",
    "    def inc(self, numOccur):\n",
    "        \"\"\"inc(对count变量增加给定值)\n",
    "        \"\"\"\n",
    "        self.count += numOccur\n",
    "\n",
    "    def disp(self, ind=1):\n",
    "        \"\"\"disp(用于将树以文本形式显示)\n",
    "        \"\"\"\n",
    "        print('  '*ind, self.name, ' ', self.count)\n",
    "        for child in self.children.values():\n",
    "            child.disp(ind+1)"
   ]
  },
  {
   "cell_type": "markdown",
   "metadata": {},
   "source": [
    "- 遍历所有的数据集合，计算所有项的支持度。\n",
    "- 丢弃非频繁的项。\n",
    "- 基于支持度降序排序所有的项。 \n",
    "- 所有数据集合按照得到的顺序重新整理。\n",
    "- 重新整理完成后，丢弃每个集合末尾非频繁项。 "
   ]
  },
  {
   "cell_type": "code",
   "execution_count": null,
   "metadata": {},
   "outputs": [],
   "source": [
    "def createTree(dataSet, minSup=1):                                            # create FP-tree from dataset but don't mine\n",
    "    '''input:  dataSet        数据集\n",
    "               minSup         项最小出现次数\n",
    "       output：retTree        FP树\n",
    "               headerTable    头指针表\n",
    "    '''\n",
    "    headerTable = {}                                                          # 初始化项的计数字典\n",
    "                                                                              # go over dataSet twice\n",
    "                                                                              # first pass counts frequency of occurance  第一次遍历数据集，统计每个元素项的频数\n",
    "    for trans in dataSet:                                                     # 遍历数据集每一条记录     \n",
    "        for item in trans:                                                    # 遍历每一项\n",
    "            headerTable[item] = headerTable.get(item, 0) + dataSet[trans]     # 计算频数 ，get() 方法返回指定键的值，如果值不在字典中返回默认值。\n",
    "    headerTableCopy = headerTable.copy()                                      # 保存项计数字典的副本\n",
    "    for k in headerTableCopy.keys():                                          # remove items not meeting minSup\n",
    "        if headerTable[k] < minSup: \n",
    "            del(headerTable[k])\n",
    "    freqItemSet = set(headerTable.keys())                                     # 创建频繁项集合                                  \n",
    "    #print 'freqItemSet: ',freqItemSet\n",
    "    if len(freqItemSet) == 0: return None, None                               # if no items meet min support -->get out\n",
    "    for k in headerTable:\n",
    "        headerTable[k] = [headerTable[k], None]                               # reformat headerTable to use Node link \n",
    "    #print 'headerTable: ',headerTable\n",
    "    retTree = treeNode('Null Set', 1, None)                                   # treeNode创建根节点\n",
    "    \n",
    "                                                                              # go through dataset 2nd time \n",
    "    for tranSet, count in dataSet.items():                                    # items() 函数以列表返回可遍历的(键, 值) 元组数组\n",
    "        localD = {}\n",
    "        for item in tranSet:                                                  # put transaction items in order\n",
    "            if item in freqItemSet:\n",
    "                localD[item] = headerTable[item][0]\n",
    "        if len(localD) > 0:\n",
    "            orderedItems = [v[0] for v in sorted(localD.items(), key=lambda p: p[1], reverse=True)]\n",
    "            updateTree(orderedItems, retTree, headerTable, count)             # populate tree with ordered freq itemset\n",
    "    return retTree, headerTable                                               # return tree and header table"
   ]
  },
  {
   "cell_type": "code",
   "execution_count": null,
   "metadata": {},
   "outputs": [],
   "source": [
    "#读取每个集合插入FP树中，同时用一个头部链表数据结构维护不同集合的相同项，最终得到一棵FP树(带头指针表的FP树)\n",
    "def updateTree(items, inTree, headerTable, count):\n",
    "    if items[0] in inTree.children:                                           # check if orderedItems[0] in retTree.children\n",
    "        inTree.children[items[0]].inc(count)                                  # incrament count\n",
    "    else:   #add items[0] to inTree.children\n",
    "        inTree.children[items[0]] = treeNode(items[0], count, inTree)\n",
    "        if headerTable[items[0]][1] == None:                                  # update header table \n",
    "            headerTable[items[0]][1] = inTree.children[items[0]]\n",
    "        else:\n",
    "            updateHeader(headerTable[items[0]][1], inTree.children[items[0]])\n",
    "    if len(items) > 1:                                                        # call updateTree() with remaining ordered items\n",
    "        updateTree(items[1::], inTree.children[items[0]], headerTable, count)"
   ]
  },
  {
   "cell_type": "code",
   "execution_count": null,
   "metadata": {},
   "outputs": [],
   "source": [
    "#简单的数据集以及数据包装器\n",
    "def loadSimpDat():\n",
    "    simpDat = [['r', 'z', 'h', 'j', 'p'],\n",
    "               ['z', 'y', 'x', 'w', 'v', 'u', 't', 's'],\n",
    "               ['z'],\n",
    "               ['r', 'x', 'n', 'o', 's'],\n",
    "               ['y', 'r', 'x', 'z', 'q', 't', 'p'],\n",
    "               ['y', 'z', 'x', 'e', 'q', 's', 't', 'm']]\n",
    "    return simpDat\n",
    "\n",
    "def createInitSet(dataSet):\n",
    "    retDict = {}\n",
    "    for trans in dataSet:\n",
    "        retDict[frozenset(trans)] = 1\n",
    "    return retDict"
   ]
  },
  {
   "cell_type": "code",
   "execution_count": null,
   "metadata": {},
   "outputs": [],
   "source": [
    "simpDat = loadSimpDat()\n",
    "simpDat"
   ]
  },
  {
   "cell_type": "code",
   "execution_count": null,
   "metadata": {},
   "outputs": [],
   "source": [
    "initSet = createInitSet(simpDat)\n",
    "initSet"
   ]
  },
  {
   "cell_type": "code",
   "execution_count": null,
   "metadata": {},
   "outputs": [],
   "source": [
    "myFPtree, myHeaderTab = createTree(initSet, 3)\n",
    "myFPtree"
   ]
  },
  {
   "cell_type": "code",
   "execution_count": null,
   "metadata": {},
   "outputs": [],
   "source": [
    "myFPtree.disp() #使用display()方法给出输的文本表示效果"
   ]
  },
  {
   "cell_type": "markdown",
   "metadata": {},
   "source": [
    "### （2）从FP树中挖掘出频繁项集"
   ]
  },
  {
   "cell_type": "code",
   "execution_count": null,
   "metadata": {},
   "outputs": [],
   "source": [
    "def ascendTree(leafNode, prefixPath):                                        # ascends from leaf node to root 上溯，收集所有遇到的元素项名称\n",
    "    if leafNode.parent != None:\n",
    "        prefixPath.append(leafNode.name)\n",
    "        ascendTree(leafNode.parent, prefixPath)"
   ]
  },
  {
   "cell_type": "code",
   "execution_count": null,
   "metadata": {},
   "outputs": [],
   "source": [
    "def findPrefixPath(basePat, treeNode):                                       # treeNode comes from header table\n",
    "    condPats = {}\n",
    "    while treeNode != None:\n",
    "        prefixPath = []\n",
    "        ascendTree(treeNode, prefixPath)\n",
    "        if len(prefixPath) > 1: \n",
    "            condPats[frozenset(prefixPath[1:])] = treeNode.count\n",
    "        treeNode = treeNode.nodeLink\n",
    "    return condPats"
   ]
  },
  {
   "cell_type": "code",
   "execution_count": null,
   "metadata": {},
   "outputs": [],
   "source": [
    "findPrefixPath('x', myHeaderTab['x'][1])"
   ]
  },
  {
   "cell_type": "code",
   "execution_count": null,
   "metadata": {},
   "outputs": [],
   "source": [
    "findPrefixPath('z', myHeaderTab['z'][1])"
   ]
  },
  {
   "cell_type": "code",
   "execution_count": null,
   "metadata": {},
   "outputs": [],
   "source": [
    "findPrefixPath('r', myHeaderTab['r'][1])"
   ]
  },
  {
   "cell_type": "markdown",
   "metadata": {},
   "source": [
    "### 创建条件FP树"
   ]
  },
  {
   "cell_type": "code",
   "execution_count": null,
   "metadata": {},
   "outputs": [],
   "source": [
    "def mineTree(inTree, headerTable, minSup, preFix, freqItemList):\n",
    "    bigL = [v[0] for v in sorted(headerTable.items(), key=lambda p: p[0])]            # (sort header table)\n",
    "    for basePat in bigL:                                                              # start from bottom of header table\n",
    "        newFreqSet = preFix.copy()\n",
    "        newFreqSet.add(basePat)\n",
    "        #print 'finalFrequent Item: ',newFreqSet    #append to set\n",
    "        freqItemList.append(newFreqSet)\n",
    "        condPattBases = findPrefixPath(basePat, headerTable[basePat][1])\n",
    "        #print 'condPattBases :',basePat, condPattBases\n",
    "        #2. construct cond FP-tree from cond. pattern base\n",
    "        myCondTree, myHead = createTree(condPattBases, minSup)\n",
    "        #print 'head from conditional tree: ', myHead\n",
    "        if myHead != None: #3. mine cond. FP-tree\n",
    "            print('conditional tree for: ',newFreqSet)\n",
    "            myCondTree.disp(1)            \n",
    "            mineTree(myCondTree, myHead, minSup, newFreqSet, freqItemList)"
   ]
  },
  {
   "cell_type": "code",
   "execution_count": null,
   "metadata": {},
   "outputs": [],
   "source": [
    "freqItems = []\n",
    "mineTree(myFPtree, myHeaderTab, 3, set([]), freqItems)"
   ]
  },
  {
   "cell_type": "code",
   "execution_count": null,
   "metadata": {},
   "outputs": [],
   "source": []
  },
  {
   "cell_type": "code",
   "execution_count": null,
   "metadata": {},
   "outputs": [],
   "source": []
  },
  {
   "cell_type": "code",
   "execution_count": null,
   "metadata": {},
   "outputs": [],
   "source": []
  },
  {
   "cell_type": "code",
   "execution_count": null,
   "metadata": {},
   "outputs": [],
   "source": []
  },
  {
   "cell_type": "code",
   "execution_count": null,
   "metadata": {},
   "outputs": [],
   "source": []
  },
  {
   "cell_type": "code",
   "execution_count": null,
   "metadata": {},
   "outputs": [],
   "source": []
  }
 ],
 "metadata": {
  "kernelspec": {
   "display_name": "Python 3",
   "language": "python",
   "name": "python3"
  },
  "language_info": {
   "codemirror_mode": {
    "name": "ipython",
    "version": 3
   },
   "file_extension": ".py",
   "mimetype": "text/x-python",
   "name": "python",
   "nbconvert_exporter": "python",
   "pygments_lexer": "ipython3",
   "version": "3.6.7"
  }
 },
 "nbformat": 4,
 "nbformat_minor": 2
}
