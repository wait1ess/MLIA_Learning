{
 "cells": [
  {
   "cell_type": "markdown",
   "metadata": {},
   "source": [
    "# Logistic回归\n",
    "优点：计算代价不高，易于理解和实现。\n",
    "缺点：容易欠拟合，分类精度可能不高。\n",
    "使用数据类型：数值型和标称型数据。\n",
    "### 梯度上升法的伪代码\n",
    "    每个回归系数初始化为1\n",
    "    重复R次：\n",
    "        计算整个数据集的梯度\n",
    "        使用alpha×gradient更新回归系数的向量\n",
    "    返回回归系数"
   ]
  },
  {
   "cell_type": "markdown",
   "metadata": {},
   "source": [
    "### Logistic回归梯度上升优化方法"
   ]
  },
  {
   "cell_type": "code",
   "execution_count": 1,
   "metadata": {},
   "outputs": [],
   "source": [
    "from numpy import *\n",
    "def loadDataSet():                                                        # 加载数据集\n",
    "    dataMat = []                                                          # 创建数据列表\n",
    "    labelMat = []                                                         # 创建标签列表\n",
    "    fr = open('testSet.txt')                                              # 打开测试数据文件\n",
    "    for line in fr.readlines():                                           # 读取文件每一行\n",
    "        lineArr = line.strip().split()                                    # 除去每一行的空格后拆分成列表， 例如 ['0.317029', '14.739025', '0']\n",
    "        dataMat.append([1.0, float(lineArr[0]), float(lineArr[1])])       # 增加子列表，[1.0,lineArr第一个元素（float）,lineArr第二个元素（float）] ，其中1.0为第0维的特征X0\n",
    "        labelMat.append(int(lineArr[2]))                                  # 添加元素，元素来源于 lineArr列表的第三个元素（transform str to int first） 即类别向量     \n",
    "    return dataMat, labelMat                                              # 返回数据列表，标签列表\n",
    "                                                                          # 注：[1.0, float(lineArr[0]), float(lineArr[1])] 中的1.0 表示的是特征X0 的值，一般默认X0 = 1.0（or 1）"
   ]
  },
  {
   "cell_type": "code",
   "execution_count": 2,
   "metadata": {},
   "outputs": [],
   "source": [
    "def sigmoid(inX):   # 定义sigmoid函数， 同书P74\n",
    "    return 1.0/(1+exp(-inX))"
   ]
  },
  {
   "cell_type": "code",
   "execution_count": 3,
   "metadata": {},
   "outputs": [],
   "source": [
    "def gradAscent(dataMatIn, classLabels):                                   # 定义梯度上升函数\n",
    "    dataMatrix = mat(dataMatIn)                                           # 把数据列表转化成矩阵形式（列表和矩阵的简单差别：列表一般是一行，以逗号分隔，而矩阵是多行，没逗号）\n",
    "    labelMat = mat(classLabels).transpose()                               # 把标签列表转化成矩阵形式，然后转置 （行向量 -> 列向量）\n",
    "    m,n = shape(dataMatrix)                                               # 取数据矩阵的行和列 ，第一个是 行数m=100， 第二个是 列数n=3 \n",
    "    alpha = 0.001                                                         # 学习率初始化 = 0.001\n",
    "    maxCycles = 500                                                       # 最大循环次数 = 500\n",
    "    weights = ones((n,1))                                                 # 参数初始化为 = 0.0   列向量（形式为n行1列）\n",
    "    for k in range(maxCycles):  \n",
    "        h = sigmoid(dataMatrix * weights)                                 # 1.0/(1+exp(-Z)    f[x,y] = Z = dataMatrix * weights\n",
    "        error = (labelMat - h)\n",
    "        weights = weights + alpha * dataMatrix.transpose() * error        # 更新参数 \n",
    "    return weights                                                        # 返回 参数"
   ]
  },
  {
   "cell_type": "code",
   "execution_count": 29,
   "metadata": {},
   "outputs": [
    {
     "name": "stdout",
     "output_type": "stream",
     "text": [
      "(3, 1)\n",
      "(3, 1)\n"
     ]
    }
   ],
   "source": [
    "dataArr, labelMat = loadDataSet()         #载入数据\n",
    "dataMatrix = mat(dataArr)                 #特征矩阵\n",
    "#print(dataMatrix)\n",
    "res = gradAscent(dataArr,labelMat)       #使用梯度上升找到最佳参数并返回\n",
    "print(shape(res))\n",
    "sss=shape(res.getA())\n",
    "print(sss)\n",
    "#res.getA()"
   ]
  },
  {
   "cell_type": "markdown",
   "metadata": {},
   "source": [
    "### 画出数据集和Logistic回归最佳你和直线的函数"
   ]
  },
  {
   "cell_type": "code",
   "execution_count": 27,
   "metadata": {},
   "outputs": [
    {
     "data": {
      "image/png": "[encoded data removed]",
      "text/plain": [
       "<Figure size 432x288 with 1 Axes>"
      ]
     },
     "metadata": {
      "needs_background": "light"
     },
     "output_type": "display_data"
    }
   ],
   "source": [
    "def plotBestFit(weights):\n",
    "    import matplotlib.pyplot as plt\n",
    "    dataMat, labelMat = loadDataSet()                             # 赋值数据列表， 标签列表（元素只有1 和 0）\n",
    "    dataArr = array(dataMat)                                      # array(dataMat) 不等于 mat(dataMat),但是形式上好像一样\n",
    "    n = shape(dataArr)[0]                                         # n=100  数组的行n=100，（数组的列m=3）\n",
    "    xcord1 = []  \n",
    "    ycord1 = []\n",
    "    xcord2 = []\n",
    "    ycord2 = []\n",
    "    for i in range(n):                                            # 遍历 （0->100-1）\n",
    "        if int(labelMat[i]) == 1:                                 # 如果第i个元素的标签值是 1\n",
    "            xcord1.append(dataArr[i,1])                           # 把对应数据数组（形似矩阵）的第i行的第2个元素 增加到 xcord1\n",
    "            ycord1.append(dataArr[i,2])                           # 把对应数据数组（形似矩阵）的第i行的第3个元素 增加到 ycord1\n",
    "        else:                                                     # 如果标签列表（labelMat）中第i个元素的标签是 0\n",
    "            xcord2.append(dataArr[i,1])                           # 同上 \n",
    "            ycord2.append(dataArr[i,2])                           # 同上\n",
    "    fig = plt.figure()\n",
    "    ax = fig.add_subplot(111)\n",
    "    ax.scatter(xcord1, ycord1, s=30, c='red', marker='s')         #阳性样本的散点图\n",
    "    ax.scatter(xcord2, ycord2, s=30, c='green')                   #阴性样本的散点图\n",
    "                                                                  # 绘制拟合直线\n",
    "    x = arange(-3.0,3.0,0.1)                                      # x取值范围 起点-3.0， 终点3.0 步长0.1 \n",
    "    y = (-weights[0]-weights[1]*x)/weights[2]                     # weight[1]是1*1的矩阵\n",
    "    ax.plot(x,y)\n",
    "    plt.xlabel('X1')\n",
    "    plt.ylabel('X2')\n",
    "    plt.show()\n",
    "plotBestFit(res.getA())                                          #getA()使矩阵变为数组"
   ]
  },
  {
   "cell_type": "markdown",
   "metadata": {},
   "source": [
    "###  随机梯度上升算法\n",
    "#### 和梯度上升法的区别：\n",
    "- 后者的变量h和error都是向量，而前者则全是数值；\n",
    "- 前者没有矩阵的转化过程，所有变量的数据类型都是Numpy数组"
   ]
  },
  {
   "cell_type": "code",
   "execution_count": 15,
   "metadata": {},
   "outputs": [],
   "source": [
    "def stocGradAscent1(dataMatrix, classLabels, numIter = 150):\n",
    "    m,n = shape(dataMatrix)                                           # 取数组（narray）的行，列 m=100， n=3  （narray 和 matrix 长的一样）\n",
    "    weights = ones(n)                                                 # [1. 1. 1.]\n",
    "    for j in range(numIter):                                          # 循环到 最大循环次数numIter = 150：\n",
    "                                                                      # dataIndex = range(m) ### 书中需要更改的地方  tip: TypeError: 'range' object doesn't support item deletion\n",
    "        dataIndex = list(range(m))                                    # 创建一个0到99， 步长为1 的列表\n",
    "        for i in range(m):                                            # 循环listIndex\n",
    "            alpha = 4/(1.0+j+i)+0.01\n",
    "            randIndex = int(random.uniform(0, len(dataIndex)))        # 随机整数值，返回 0 到 m - 1（这里是99）\n",
    "            h = sigmoid(sum(dataMatrix[randIndex]*weights))           #  1.0/(1+exp(-Z))    Z = dataMatrix * weights\n",
    "            error = classLabels[randIndex] - h\n",
    "            weights = weights + alpha * error * dataMatrix[randIndex] # 更新权重\n",
    "            del(dataIndex[randIndex])                                 # 删除用过的 随机数 （避免重复）\n",
    "    return weights                                                    # 返回权重"
   ]
  },
  {
   "cell_type": "code",
   "execution_count": 17,
   "metadata": {},
   "outputs": [
    {
     "data": {
      "image/png": "[encoded data removed]",
      "text/plain": [
       "<Figure size 432x288 with 1 Axes>"
      ]
     },
     "metadata": {
      "needs_background": "light"
     },
     "output_type": "display_data"
    }
   ],
   "source": [
    "from numpy import *\n",
    "dataArr,labelMat = loadDataSet()\n",
    "weights = stocGradAscent1(array(dataArr), labelMat)\n",
    "plotBestFit(weights) "
   ]
  },
  {
   "cell_type": "markdown",
   "metadata": {},
   "source": [
    "## 示例：从疝气病症预测病吗的死亡率"
   ]
  },
  {
   "cell_type": "code",
   "execution_count": 30,
   "metadata": {},
   "outputs": [
    {
     "name": "stdout",
     "output_type": "stream",
     "text": [
      "the error rate of this test is: 0.358209\n",
      "0.3582089552238806\n",
      "the error rate of this test is: 0.417910\n",
      "the error rate of this test is: 0.343284\n",
      "the error rate of this test is: 0.283582\n",
      "the error rate of this test is: 0.343284\n",
      "the error rate of this test is: 0.373134\n",
      "the error rate of this test is: 0.298507\n",
      "the error rate of this test is: 0.432836\n",
      "the error rate of this test is: 0.373134\n",
      "the error rate of this test is: 0.388060\n",
      "the error rate of this test is: 0.298507\n",
      "after 10 iterations the average error rate is: 0.355224\n"
     ]
    }
   ],
   "source": [
    "# Logistic回归分类函数\n",
    "def classifyVector(inX, weights):\n",
    "    prob = sigmoid(sum(inX*weights))                             # 输入Z=inX*weights（特征向量*回归系数） 计算Sigmoid值\n",
    "    if prob > 0.5:\n",
    "        return 1.0\n",
    "    else:\n",
    "        return 0.0\n",
    "\n",
    "def colicTest():\n",
    "    frTrain = open('horseColicTraining.txt')                     # 打开训练集\n",
    "    frTest = open('horseColicTest.txt')                          # 打开测试集\n",
    "    trainingSet = []                                             # 初始化训练集列表\n",
    "    trainingLabels = []                                          # 初始化训练标签列表 \n",
    "    for line in frTrain.readlines():                             # 读取训练文本的 每一行 \n",
    "        currLine = line.strip().split('\\t')                      # 除去空格，然后用split方法 转化 成list\n",
    "        lineArr = []                                             # 定义行数组（处理每行数据）\n",
    "        for i in range(21):                                      # 数据有22列，前21个为特征，最后一个是分类标签\n",
    "            lineArr.append(float(currLine[i]))                   # 添加currLine的第i个元素到lineArr\n",
    "        trainingSet.append(lineArr)                              # 把 lineArr 作为 子列表 添加到 训练集列表trainingSet\n",
    "        trainingLabels.append(float(currLine[21]))               # 把 currLine 最后一个元素（是标签） 添加到训练标签trainingLabels\n",
    "    trainWeights = stocGradAscent1(array(trainingSet),trainingLabels,500)   # 迭达500次 求 训练权重\n",
    "    errorCount = 0\n",
    "    numTestVec = 0.0\n",
    "    for line in frTest.readlines():                              # 读取测试文本的每一行\n",
    "        numTestVec += 1.0                                        # numTestVec == 1.0\n",
    "        currLine = line.strip().split('\\t')                      # 除去空格，然后用split方法 转化 成list\n",
    "        lineArr = []                                             # 定义行数组（处理每行数据）\n",
    "        for i in range(21):                                      # 数据有22列，前21个为特征，最后一个是分类标签\n",
    "            lineArr.append(float(currLine[i]))                   # 添加currLine的第i个元素到lineArr\n",
    "        if int(classifyVector(array(lineArr), trainWeights)) != int(currLine[21]):  # 如果分类有错误\n",
    "            errorCount += 1\n",
    "    errorRate = (float(errorCount)/numTestVec)                   # 计算错误率\n",
    "    print(\"the error rate of this test is: %f\" % errorRate)\n",
    "    return errorRate\n",
    "                                                                 # errorCount,numTestVec 各变量结果  25, 67.0\n",
    "\n",
    "def multiTest():                                                 # 调用colicTest（）函数10次并求错误率的平均值\n",
    "    numTests = 10\n",
    "    errorSum = 0.0\n",
    "    for k in range(numTests):\n",
    "        errorSum += colicTest()\n",
    "    print(\"after %d iterations the average error rate is: %f\" % (numTests, errorSum/float(numTests)))\n",
    "    \n",
    "print(colicTest())\n",
    "multiTest()"
   ]
  },
  {
   "cell_type": "code",
   "execution_count": null,
   "metadata": {},
   "outputs": [],
   "source": []
  }
 ],
 "metadata": {
  "kernelspec": {
   "display_name": "Python 3",
   "language": "python",
   "name": "python3"
  },
  "language_info": {
   "codemirror_mode": {
    "name": "ipython",
    "version": 3
   },
   "file_extension": ".py",
   "mimetype": "text/x-python",
   "name": "python",
   "nbconvert_exporter": "python",
   "pygments_lexer": "ipython3",
   "version": "3.7.1"
  }
 },
 "nbformat": 4,
 "nbformat_minor": 2
}
